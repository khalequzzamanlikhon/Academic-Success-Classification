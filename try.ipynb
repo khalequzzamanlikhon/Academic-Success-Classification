{
 "cells": [
  {
   "cell_type": "code",
   "execution_count": null,
   "metadata": {},
   "outputs": [],
   "source": [
    "list1=[43876\t-0.253437\t-1.014509\t0.289183\t0.140130\t0.304173\t-0.308308\t-0.123691\t-1.223274\t0.354543\t0.869857\t...\t0.855619\t,0.040921\t,-0.352401\t,0.718660\t,0.728558\t,-0.135127\t,-0.372698\t,0.153079,0.903794]"
   ]
  }
 ],
 "metadata": {
  "language_info": {
   "name": "python"
  }
 },
 "nbformat": 4,
 "nbformat_minor": 2
}
